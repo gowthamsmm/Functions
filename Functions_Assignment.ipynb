{
  "nbformat": 4,
  "nbformat_minor": 0,
  "metadata": {
    "colab": {
      "provenance": []
    },
    "kernelspec": {
      "name": "python3",
      "display_name": "Python 3"
    },
    "language_info": {
      "name": "python"
    }
  },
  "cells": [
    {
      "cell_type": "markdown",
      "source": [
        "# Functions Theory Questions"
      ],
      "metadata": {
        "id": "69oPoT6Er0vh"
      }
    },
    {
      "cell_type": "markdown",
      "source": [
        "1.  What is the difference between a function and a method in Python?\n",
        "    * A function is like a recipe you can use anytime, anywhere. You give it some ingredients (called arguments), and it gives you back a dish (the result). It doesn’t belong to anything—it’s just a standalone tool. For example:\n",
        "\n",
        "     def add(a, b):\n",
        "\n",
        "     return a + b\n",
        "\n",
        "     print(add(2, 3))  # Output: 5\n",
        "\n",
        "     A method is like a special trick that only works for a specific thing (an object). It’s a recipe that’s attached to something, like a toy that has a button you press to make it talk. You need the toy (the object) to use the trick. For example:\n",
        "\n",
        "     class Dog:\n",
        "\n",
        "     def bark(self):\n",
        "\n",
        "        return \"Woof!\"\n",
        "\n",
        "     my_dog = Dog()\n",
        "\n",
        "     print(my_dog.bark())  # Output: Woof!\n",
        "\n",
        "     Differences:\n",
        "     * Function: Works on its own, like a calculator.\n",
        "     * Method: Belongs to something (an object), like a button on a toy.\n",
        "     * How you use it: Call a function by its name (add(2, 3)), but call a method on an object with a dot (my_dog.bark()).\n",
        "\n",
        "     So, a function is free to use anywhere, while a method is tied to an object and works with its stuff.\n",
        "\n",
        "2.  Explain the concept of function arguments and parameters in Python.\n",
        "    * Parameters are variables you define in a function to receive data, like labels on empty jars.\n",
        "          Example: def add(x, y): — x and y are parameters.\n",
        "    * Arguments are the specific data you send to the function when you use it, like filling the jars.\n",
        "          Example: add(2, 5) — 2 and 5 are arguments.\n",
        "    \n",
        "     So: Parameters set up the function to expect something, and arguments give it the real stuff to work with.\n",
        "\n",
        "3. What are the different ways to define and call a function in Python?\n",
        "   * In Python, there are several ways to define and call a function, depending on how you want to handle parameters, arguments, and functionality.\n",
        "   * Defining Functions\n",
        "     * Simple: def hello(): — No inputs.\n",
        "     * With Params: def multiply(x, y): — Set parameters.\n",
        "     * With Defaults: def welcome(user=\"friend\"): — Optional values.\n",
        "     * Flexible Positional (*args): def count(*items): — Unlimited args (tuple).\n",
        "     * Flexible Keyword (**kwargs): def details(**data): — Unlimited named args (dict).\n",
        "     * All Together: def combo(x, y=0, *args, **kwargs): — Mix of types.\n",
        "     * Quick Lambda: lambda z: z**2 — Tiny, unnamed function.\n",
        "  * Calling Functions\n",
        "    * imple: hello() — Just call it.\n",
        "    * By Position: multiply(4, 5) — Args in sequence.\n",
        "    * By Name: multiply(y=5, x=4) — Args with param names.\n",
        "    * Using Defaults: welcome() or welcome(\"Zoe\") — Skip or set.\n",
        "    * Many Positional: count(1, 2, 3, 4) or count(*[1, 2]) — Pass a bunch.\n",
        "    * Many Keyword: details(color=\"red\", size=10) or details(**{\"color\": \"red\"}) — Name-value pairs.\n",
        "    * Mixed Call: combo(1, y=2, 3, z=\"test\") — Blend of args.\n",
        "    * Lambda Use: (lambda z: z + 3)(7) or f(7) (if named).\n",
        "\n",
        "4. What is the purpose of the `return` statement in a Python function?\n",
        "   * The return statement in a Python function serves to:\n",
        "    * Send a value back to the caller: It specifies what the function should output or \"give back\" when it’s done running.\n",
        "    * End the function: Once return is executed, the function stops immediately, and control returns to where it was called.\n",
        "\n",
        "    If there’s no return, the function silently gives back None.\n",
        "    \n",
        "    Example:\n",
        "\n",
        "    def square(x):\n",
        "   \n",
        "    return x * x  # Outputs the square and stops\n",
        "\n",
        "    print(square(4))  # Output: 16\n",
        "\n",
        "5. What are iterators in Python and how do they differ from iterables?\n",
        "   * An iterable is any object that can be looped over, meaning you can go through its items one by one.\n",
        "   Examples: Lists ([1, 2, 3]), strings (\"hello\"), tuples, dictionaries, sets.\n",
        "   Example:\n",
        "\n",
        "    my_list = [1, 2, 3]  # This is an iterable\n",
        "\n",
        "    for x in my_list:    # You can loop over it\n",
        "\n",
        "    print(x)\n",
        "\n",
        "    Difference between iterables and iterators in Python:\n",
        "   \n",
        "    Iterable:\n",
        "    * An object you can loop over (e.g., list, string).\n",
        "    * Doesn’t track position.\n",
        "    * Can be reused.\n",
        "           Example: [1, 2, 3].\n",
        "      \n",
        "    Iterator:\n",
        "    * An object that loops, created with iter() from an iterable.\n",
        "    * Tracks its position using next().\n",
        "    * Used up after one pass.\n",
        "           Example: iter([1, 2, 3]).\n",
        "\n",
        "6. Explain the concept of generators in Python and how they are defined.\n",
        "   * Generators are like a magic vending machine in Python. Instead of giving you all the snacks at once (which could take up a lot of space), it gives you one snack at a time, only when you ask for it. This saves space and makes things faster when you’re dealing with lots of items.\n",
        "   * Generators are defined using:\n",
        "    * Functions with yield (pauses and gives one item at a time).\n",
        "    * ( ) expressions (a quick, lazy version of a list).\n",
        "      \n",
        "    They’re perfect when you want to handle things step-by-step without overloading your program.\n",
        "\n",
        "7. What are the advantages of using generators over regular functions?\n",
        "   * The advantages of generators over regular functions, keeping it short:\n",
        "\n",
        "    * Low Memory Use: Generators produce values one-by-one, not all at once like regular functions, saving memory.\n",
        "    * On-Demand Work: They only calculate what’s asked for, skipping unneeded effort.\n",
        "    * Easy Looping: With yield, they simplify creating custom iterators without extra bookkeeping.\n",
        "    * Endless Possibilities: Generators can keep going forever (e.g., infinite lists), unlike regular functions.\n",
        "    * Smooth Chaining: They pass data between steps efficiently, no big temporary collections needed.\n",
        "    * Faster Start: Less upfront work means quicker results when you don’t need everything.\n",
        "\n",
        "8. What is a lambda function in Python and when is it typically used?\n",
        "   * A lambda function in Python is a small, anonymous (unnamed) function defined with the lambda keyword. It can take any number of arguments but has only one expression, which is evaluated and returned. Unlike regular functions defined with def, lambda functions are typically concise and used for short-term tasks.\n",
        "   * It's used for :\n",
        "    * Quick Jobs: Simple tasks without a full def (e.g., lambda x: x + 1).\n",
        "    * Built-ins: Works with map(), filter(), or sorted() (e.g., sorted(list, key=lambda x: x[0])).\n",
        "    * One-Offs: Inline logic you won’t reuse (e.g., (lambda x: x * 2)(5)).\n",
        "    * Callbacks: Short actions in event code (e.g., button.on_click(lambda: print(\"Hi\"))).\n",
        "\n",
        "9. Explain the purpose and usage of the `map()` function in Python.\n",
        "   * Purpose :\n",
        "    * Transformation: It processes every element in an iterable using a specified function.\n",
        "    * Efficiency: It avoids manual iteration, making code cleaner and often faster.\n",
        "    * Functional Style: Encourages a functional programming approach by applying operations uniformly.\n",
        "  * Usage\n",
        "    * Doubling numbers: list(map(lambda x: x*2, [1, 2, 3])) → [2, 4, 6]\n",
        "    * Converting to strings: list(map(str, [1, 2, 3])) → [\"1\", \"2\", \"3\"]\n",
        "    * Adding two lists: list(map(lambda x, y: x+y, [1, 2], [3, 4])) → [4, 6]\n",
        "\n",
        "10. What is the difference between `map()`, `reduce()`, and `filter()` functions in Python?\n",
        "    * Comparison of map(), reduce(), and filter():\n",
        "\n",
        "    * map(): Applies a function to every item.\n",
        "\n",
        "          Ex: list(map(lambda x: x+1, [1, 2])) → [2, 3]\n",
        "    * reduce(): Folds iterable into one value (needs functools).\n",
        "\n",
        "          Ex: reduce(lambda x, y: x*y, [1, 2, 3]) → 6\n",
        "    * filter(): Picks items where function is True.\n",
        "          Ex: list(filter(lambda x: x % 2 == 0, [1, 2, 3])) → [2]\n",
        "\n",
        "     Difference: map changes all, reduce merges all, filter chooses some. Each takes a function and iterable, yields an iterator.\n",
        "\n",
        "11. Using pen & Paper write the internal mechanism for sum operation using  reduce function on this given list:[47,11,42,13];\n",
        "    * List: [47, 11, 42, 13]\n",
        "\n",
        "     * Step 1: 47 + 11 = 58\n",
        "     * Step 2: 58 + 42 = 100\n",
        "     * Step 3: 100 + 13 = 113\n",
        "\n",
        "     Final Result: 113\n",
        "\n",
        "   "
      ],
      "metadata": {
        "id": "-TXdy4QQsRoE"
      }
    },
    {
      "cell_type": "markdown",
      "source": [
        "# # Functions Practical Questions"
      ],
      "metadata": {
        "id": "veZZmovEgR0u"
      }
    },
    {
      "cell_type": "code",
      "source": [
        "# 1. Write a Python function that takes a list of numbers as input and returns the sum of all even numbers in the list.\n",
        "def sum_even_numbers(numbers):\n",
        "    total = 0\n",
        "    for num in numbers:\n",
        "        if num % 2 == 0:\n",
        "            total += num\n",
        "    return total\n",
        "\n",
        "# Example usage\n",
        "numbers = [1, 2, 3, 4, 5, 6]\n",
        "result = sum_even_numbers(numbers)\n",
        "print(result)  # Output: 12 (2 + 4 + 6)\n",
        "\n"
      ],
      "metadata": {
        "colab": {
          "base_uri": "https://localhost:8080/"
        },
        "collapsed": true,
        "id": "VPPMYZj6gdby",
        "outputId": "36330fac-be53-4c3a-94ea-273df5ccba0a"
      },
      "execution_count": null,
      "outputs": [
        {
          "output_type": "stream",
          "name": "stdout",
          "text": [
            "12\n"
          ]
        }
      ]
    },
    {
      "cell_type": "code",
      "source": [
        "# 2. Create a Python function that accepts a string and returns the reverse of that string.\n",
        "def reverse_string(text):\n",
        "    return text[::-1]\n",
        "\n",
        "# Example usage\n",
        "string = \"hello\"\n",
        "result = reverse_string(string)\n",
        "print(result)  # Output: \"olleh\""
      ],
      "metadata": {
        "colab": {
          "base_uri": "https://localhost:8080/"
        },
        "collapsed": true,
        "id": "RqsU1sTYhNF_",
        "outputId": "86f77d5a-0d83-4d9a-839d-2972470bb5f1"
      },
      "execution_count": null,
      "outputs": [
        {
          "output_type": "stream",
          "name": "stdout",
          "text": [
            "olleh\n"
          ]
        }
      ]
    },
    {
      "cell_type": "code",
      "source": [
        "# 3. Implement a Python function that takes a list of integers and returns a new list containing the squares of each number.\n",
        "def square_numbers(numbers):\n",
        "    return [x * x for x in numbers]\n",
        "\n",
        "# Example usage\n",
        "nums = [1, 2, 3, 4]\n",
        "result = square_numbers(nums)\n",
        "print(result)  # Output: [1, 4, 9, 16]"
      ],
      "metadata": {
        "colab": {
          "base_uri": "https://localhost:8080/"
        },
        "collapsed": true,
        "id": "wpP0eulphd8-",
        "outputId": "0698c6a2-4500-406b-a1de-102bc3fd0b49"
      },
      "execution_count": null,
      "outputs": [
        {
          "output_type": "stream",
          "name": "stdout",
          "text": [
            "[1, 4, 9, 16]\n"
          ]
        }
      ]
    },
    {
      "cell_type": "code",
      "source": [
        "# 4. Write a Python function that checks if a given number is prime or not from 1 to 200.\n",
        "def is_prime(number):\n",
        "    # Check range and edge case\n",
        "    if number < 1 or number > 200:\n",
        "        return \"Number must be between 1 and 200\"\n",
        "    if number <= 1:\n",
        "        return False  # 1 or less isn’t prime\n",
        "\n",
        "    # Test divisibility up to half the number\n",
        "    for i in range(2, number // 2 + 1):\n",
        "        if number % i == 0:\n",
        "            return False\n",
        "    return True\n",
        "\n",
        "# Example usage\n",
        "print(is_prime(13))  # Output: True\n",
        "print(is_prime(9))   # Output: False\n",
        "print(is_prime(0))   # Output: False\n",
        "\n"
      ],
      "metadata": {
        "colab": {
          "base_uri": "https://localhost:8080/"
        },
        "collapsed": true,
        "id": "kw8593JIiLZP",
        "outputId": "bc8d5cca-21e1-433f-83f0-8af110e276a5"
      },
      "execution_count": null,
      "outputs": [
        {
          "output_type": "stream",
          "name": "stdout",
          "text": [
            "True\n",
            "False\n",
            "Number must be between 1 and 200\n"
          ]
        }
      ]
    },
    {
      "cell_type": "code",
      "source": [
        "# 5. Create an iterator class in Python that generates the Fibonacci sequence up to a specified number of terms.\n",
        "class FibonacciIterator:\n",
        "    def __init__(self, terms):\n",
        "        self.terms = terms  # How many numbers to make\n",
        "        self.count = 0      # Counts how many we've made\n",
        "        self.first = 0      # First number\n",
        "        self.second = 1     # Second number\n",
        "\n",
        "    def __iter__(self):\n",
        "        return self\n",
        "\n",
        "    def __next__(self):\n",
        "        if self.count == self.terms:\n",
        "            raise StopIteration  # Stop when we hit the limit\n",
        "\n",
        "        # Give back the first number, then update\n",
        "        number = self.first\n",
        "        self.first = self.second\n",
        "        self.second = number + self.second\n",
        "        self.count += 1\n",
        "        return number\n",
        "\n",
        "# Test it\n",
        "fib = FibonacciIterator(6)\n",
        "for num in fib:\n",
        "    print(num, end=\" \")  # Output: 0 1 1 2 3 5\n"
      ],
      "metadata": {
        "colab": {
          "base_uri": "https://localhost:8080/"
        },
        "collapsed": true,
        "id": "GDPzE-sZi0kq",
        "outputId": "43c2b270-4da9-44d6-dbe1-4410fb985a3e"
      },
      "execution_count": null,
      "outputs": [
        {
          "output_type": "stream",
          "name": "stdout",
          "text": [
            "0 1 1 2 3 5 "
          ]
        }
      ]
    },
    {
      "cell_type": "code",
      "source": [
        "# 6. Write a generator function in Python that yields the powers of 2 up to a given exponent.\n",
        "def powers_of_two(max_exponent):\n",
        "    power = 0\n",
        "    while power <= max_exponent:\n",
        "        yield 2 ** power\n",
        "        power += 1\n",
        "\n",
        "# Example usage\n",
        "for value in powers_of_two(4):\n",
        "    print(value, end=\" \")  # Output: 1 2 4 8 16\n"
      ],
      "metadata": {
        "colab": {
          "base_uri": "https://localhost:8080/"
        },
        "collapsed": true,
        "id": "Xpk_9sa3jb1i",
        "outputId": "9a9c9a52-0dbd-49c2-b8be-65eb5807f2df"
      },
      "execution_count": null,
      "outputs": [
        {
          "output_type": "stream",
          "name": "stdout",
          "text": [
            "1 2 4 8 16 "
          ]
        }
      ]
    },
    {
      "cell_type": "code",
      "source": [
        "# 7.  Implement a generator function that reads a file line by line and yields each line as a string.\n",
        "def read_file_lines(filepath):\n",
        "    \"\"\"\n",
        "    Reads a file line by line and yields each line as a string.\n",
        "\n",
        "    Args:\n",
        "        filepath (str): The path to the file.\n",
        "\n",
        "    Yields:\n",
        "        str: Each line of the file.\n",
        "    \"\"\"\n",
        "    try:\n",
        "        with open(filepath, 'r') as file:\n",
        "            for line in file:\n",
        "                yield line.rstrip('\\n')  # Remove trailing newline character\n",
        "    except FileNotFoundError:\n",
        "        print(f\"Error: File not found at {filepath}\")\n",
        "    except Exception as e:\n",
        "        print(f\"An error occurred: {e}\")"
      ],
      "metadata": {
        "id": "fTi7Rf3Yj4Kk"
      },
      "execution_count": 36,
      "outputs": []
    },
    {
      "cell_type": "code",
      "source": [
        "# 8. Use a lambda function in Python to sort a list of tuples based on the second element of each tuple.\n",
        "# List of tuples\n",
        "items = [('apple', 3), ('banana', 1), ('cherry', 2)]\n",
        "\n",
        "# Sort using lambda, focusing on second element\n",
        "result = sorted(items, key=lambda tuple_item: tuple_item[1])\n",
        "\n",
        "# Print sorted list\n",
        "print(result)  # Output: [('banana', 1), ('cherry', 2), ('apple', 3)]"
      ],
      "metadata": {
        "colab": {
          "base_uri": "https://localhost:8080/"
        },
        "collapsed": true,
        "id": "ia99MwIopxNz",
        "outputId": "2e25b8ca-2e78-4d76-b0ec-bd22503bbbb0"
      },
      "execution_count": null,
      "outputs": [
        {
          "output_type": "stream",
          "name": "stdout",
          "text": [
            "[('banana', 1), ('cherry', 2), ('apple', 3)]\n"
          ]
        }
      ]
    },
    {
      "cell_type": "code",
      "source": [
        "# 9. Write a Python program that uses `map()` to convert a list of temperatures from Celsius to Fahrenheit.\n",
        "# List of Celsius temperatures\n",
        "temps = [-40, 10, 20, 30]\n",
        "\n",
        "# Use map() with lambda for conversion\n",
        "fahrenheit = list(map(lambda c: (c * 9/5) + 32, temps))\n",
        "\n",
        "# Print results\n",
        "print(fahrenheit)  # Output: [-40.0, 50.0, 68.0, 86.0]\n"
      ],
      "metadata": {
        "colab": {
          "base_uri": "https://localhost:8080/"
        },
        "collapsed": true,
        "id": "1Xfnk4QhtLYW",
        "outputId": "e76085c5-a309-4c17-c730-bc8ab80206ea"
      },
      "execution_count": null,
      "outputs": [
        {
          "output_type": "stream",
          "name": "stdout",
          "text": [
            "[-40.0, 50.0, 68.0, 86.0]\n"
          ]
        }
      ]
    },
    {
      "cell_type": "code",
      "source": [
        "# 10. Create a Python program that uses `filter()` to remove all the vowels from a given string.\n",
        "# Check if a character is not a vowel using lambda\n",
        "text = \"Python Programming\"\n",
        "\n",
        "# Use filter() with lambda to remove vowels\n",
        "no_vowels = ''.join(filter(lambda ch: ch.lower() not in 'aeiou', text))\n",
        "\n",
        "# Print result\n",
        "print(no_vowels)  # Output: \"Pythn Prgrmmng\""
      ],
      "metadata": {
        "colab": {
          "base_uri": "https://localhost:8080/"
        },
        "collapsed": true,
        "id": "OTq4uxCFvIeo",
        "outputId": "517d8229-ec14-486e-c763-08430e88bcd4"
      },
      "execution_count": null,
      "outputs": [
        {
          "output_type": "stream",
          "name": "stdout",
          "text": [
            "Pythn Prgrmmng\n"
          ]
        }
      ]
    },
    {
      "cell_type": "code",
      "source": [
        "# 11. Imagine an accounting routine used in a book shop. It works on a list with sublists, which look like this :\n",
        "# Write a Python program, which returns a list with 2-tuples. Each tuple consists of the order number and the\n",
        "#product of the price per item and the quantity. The product should be increased by 10,- € if the value of the\n",
        "#order is smaller than 100,00 €\n",
        "\n",
        "# List of orders: [order_number, price_per_item, quantity]\n",
        "orders = [\n",
        "    [34587, 40.95, 4],  # Learning Python\n",
        "    [98762, 56.80, 5],  # Programming Python\n",
        "    [77226, 32.95, 3],  # Head First Python\n",
        "    [88112, 24.99, 3]   # Einführung in Python3\n",
        "]\n",
        "\n",
        "# Use map() with lambda to create tuples\n",
        "result = list(map(\n",
        "    lambda order: (\n",
        "        order[0],  # Order number\n",
        "        order[1] * order[2] + (10 if order[1] * order[2] < 100 else 0)  # Total + 10 if < 100\n",
        "    ),\n",
        "    orders\n",
        "))\n",
        "\n",
        "# Print result\n",
        "print(result)\n",
        "# Output: [(34587, 163.8), (98762, 284.0), (77226, 108.85), (88112, 84.97)]"
      ],
      "metadata": {
        "colab": {
          "base_uri": "https://localhost:8080/"
        },
        "id": "YBY0hVoawM3z",
        "outputId": "f39580a3-db93-47c4-b7d6-45e9971e637f"
      },
      "execution_count": null,
      "outputs": [
        {
          "output_type": "stream",
          "name": "stdout",
          "text": [
            "[(34587, 163.8), (98762, 284.0), (77226, 108.85000000000001), (88112, 84.97)]\n"
          ]
        }
      ]
    }
  ]
}